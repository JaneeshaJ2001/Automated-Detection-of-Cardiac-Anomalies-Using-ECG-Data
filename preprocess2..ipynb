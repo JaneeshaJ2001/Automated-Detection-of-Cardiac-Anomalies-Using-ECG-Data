{
 "cells": [
  {
   "cell_type": "code",
   "execution_count": 32,
   "metadata": {},
   "outputs": [],
   "source": [
    "# import the necessary modules\n",
    "import pandas as pd\n",
    "import numpy as np\n",
    "import os\n",
    "#waveform-database:A library of tools for reading, writing, and processing WFDB signals and annotations.\n",
    "import wfdb \n",
    "\n",
    "%matplotlib inline\n",
    "import matplotlib as mlp\n",
    "import matplotlib.pyplot as plt\n",
    "\n",
    "mlp.rc(\"xtick\",labelsize=12)\n",
    "mlp.rc(\"ytick\",labelsize=12)\n",
    "mlp.rc(\"axes\",labelsize=14)\n",
    "\n",
    "MAIN_PATH = \"C:/Users/ACER/Desktop/ECG_2\"\n",
    "DATA_PATH = \"C:/Users/ACER/Desktop/ECG_2/mit-bih-arrhythmia-database-1.0.0\"\n",
    "FIG_PATH=\"C:/Users/ACER/Desktop/ECG_2\"\n",
    "FIGURE_PATH = os.path.join(FIG_PATH,\"saved_figures\")\n",
    "os.makedirs(\"saved_figures\",exist_ok=True)\n",
    "os.chdir(DATA_PATH)\n",
    "\n",
    "#a function to save plotted figures\n",
    "def save_fig(fig_id, tight_layout=True, fig_extension=\"png\", resolution=300):\n",
    "    path = os.path.join(FIGURE_PATH, fig_id + \".\" + fig_extension)\n",
    "    print(\"Saving figure\", fig_id)\n",
    "    if tight_layout:\n",
    "        plt.tight_layout()\n",
    "    plt.savefig(path, format=fig_extension, dpi=resolution)"
   ]
  },
  {
   "cell_type": "code",
   "execution_count": 33,
   "metadata": {},
   "outputs": [
    {
     "name": "stdout",
     "output_type": "stream",
     "text": [
      "['100' '101' '102' '103' '104' '105' '106' '107' '108' '109' '111' '112'\n",
      " '113' '114' '115' '116' '117' '118' '119' '121' '122' '123' '124' '200'\n",
      " '201' '202' '203' '205' '207' '208' '209' '210' '212' '213' '214' '215'\n",
      " '217' '219' '220' '221' '222' '223' '228' '230' '231' '232' '233' '234']\n",
      "48\n"
     ]
    }
   ],
   "source": [
    "records = np.loadtxt(os.path.join(DATA_PATH,\"RECORDS\"), dtype=str)\n",
    "print(records)\n",
    "print(len(records))"
   ]
  },
  {
   "cell_type": "code",
   "execution_count": 34,
   "metadata": {},
   "outputs": [],
   "source": [
    "def read_data():\n",
    "    dataset = []\n",
    "    for record in records:\n",
    "        temp = wfdb.rdrecord(record)\n",
    "        dataset.append(temp.p_signal)\n",
    "    return dataset\n",
    "dataset = read_data()"
   ]
  },
  {
   "cell_type": "code",
   "execution_count": 35,
   "metadata": {},
   "outputs": [],
   "source": [
    "invalid_beat = [\n",
    "    \"[\", \"!\", \"]\", \"x\", \"(\", \")\", \"p\", \"t\", \n",
    "    \"u\", \"`\", \"'\", \"^\", \"|\", \"~\", \"+\", \"s\", \n",
    "    \"T\", \"*\", \"D\", \"=\",'\"', \"@\", \"B\", \"a\", \"J\", \"S\",\n",
    "    \"r\", \"F\", \"e\", \"j\", \"n\", \"f\", \"Q\", \"?\"\n",
    "]\n",
    "\n",
    "label_beats=[\n",
    "    \"A\", \"L\", \"/\", \"V\", \"R\", \"E\", \"N\"\n",
    "]"
   ]
  },
  {
   "cell_type": "markdown",
   "metadata": {},
   "source": [
    "# Loading signals and segmentation"
   ]
  },
  {
   "cell_type": "code",
   "execution_count": 36,
   "metadata": {},
   "outputs": [],
   "source": [
    "import wfdb\n",
    "import pywt\n",
    "import numpy as np\n",
    "from scipy.ndimage import median_filter\n",
    "from scipy.signal import savgol_filter\n",
    "\n",
    "def classify(symbol):\n",
    "    if symbol in label_beats:\n",
    "        return 1\n",
    "    else:\n",
    "        return 0\n",
    "\n",
    "def segment(signal_MLII, beat_loc):\n",
    "    window = 180\n",
    "    x = beat_loc - window\n",
    "    y = beat_loc + window\n",
    "    samp = signal_MLII[x:y]\n",
    "    return samp\n",
    "\n",
    "def perform_swt(signal, wavelet='db1', level=3):\n",
    "    # Perform SWT decomposition\n",
    "    coeffs = pywt.swt(signal, wavelet=wavelet, level=level)\n",
    "    return coeffs\n",
    "\n",
    "def two_stage_median_filter(signal, size=3):\n",
    "    # First stage: apply median filter\n",
    "    first_stage = median_filter(signal, size=size)\n",
    "    \n",
    "    # Second stage: apply median filter again\n",
    "    second_stage = median_filter(first_stage, size=size)\n",
    "    \n",
    "    return second_stage\n",
    "\n",
    "def apply_savitzky_golay(signal, window_length=5, polyorder=2):\n",
    "    # Apply Savitzky-Golay filter\n",
    "    return savgol_filter(signal, window_length=window_length, polyorder=polyorder)\n",
    "\n",
    "def perform_iswt(coeffs):\n",
    "    # Perform Inverse SWT\n",
    "    reconstructed_signal = pywt.iswt(coeffs)\n",
    "    return reconstructed_signal\n",
    "\n",
    "# Initialize lists to store signals and labels\n",
    "all_signals = []\n",
    "all_labels = []\n",
    "\n",
    "# Replace 'records' with your actual records list\n",
    "\n",
    "\n",
    "# Perform filtering and SWT on all signals\n",
    "\n",
    "\n",
    "# Example output of reconstructed signals\n",
    "\n"
   ]
  },
  {
   "cell_type": "code",
   "execution_count": 37,
   "metadata": {},
   "outputs": [],
   "source": [
    "for record in records:\n",
    "    temp = wfdb.rdrecord(record)\n",
    "    annot_temp = wfdb.rdann(record, 'atr')\n",
    "    ann_sample = annot_temp.sample\n",
    "    ann_symbol = annot_temp.symbol\n",
    "    signal = temp.p_signal\n",
    "    signal_MLII = signal[:, 0]\n",
    "    \n",
    "    for i, i_sample in enumerate(ann_sample):\n",
    "        label_dec = classify(ann_symbol[i])\n",
    "        segmentation = segment(signal_MLII, i_sample)\n",
    "        if label_dec == 1 and len(segmentation) == 360:\n",
    "            all_signals.append(segmentation)\n",
    "            all_labels.append(ann_symbol[i])"
   ]
  },
  {
   "cell_type": "code",
   "execution_count": 39,
   "metadata": {},
   "outputs": [],
   "source": [
    "all_swt_coeffs = []\n",
    "all_reconstructed_signals = []"
   ]
  },
  {
   "cell_type": "markdown",
   "metadata": {},
   "source": [
    "# signal process"
   ]
  },
  {
   "cell_type": "code",
   "execution_count": 40,
   "metadata": {},
   "outputs": [],
   "source": [
    "def perform_iswt(coeffs, wavelet='db1'):\n",
    "    # Perform Inverse SWT\n",
    "    reconstructed_signal = pywt.iswt(coeffs, wavelet)\n",
    "    return reconstructed_signal\n",
    "\n",
    "# Main processing loop\n",
    "for signal in all_signals:\n",
    "    # Perform SWT on the original signal\n",
    "    swt_coeffs = perform_swt(signal, wavelet='db1')  # Specify the wavelet here\n",
    "    all_swt_coeffs.append(swt_coeffs)\n",
    "    \n",
    "    # Filter the SWT coefficients (you may need to adjust this part)\n",
    "    filtered_coeffs = []\n",
    "    for coeff in swt_coeffs:\n",
    "        # Apply two-stage median filter and Savitzky-Golay filter to each coefficient\n",
    "        filtered_detail = two_stage_median_filter(coeff[1])  # Detail coefficients\n",
    "        smoothed_detail = apply_savitzky_golay(filtered_detail)\n",
    "        filtered_coeffs.append((coeff[0], smoothed_detail))  # Append approximation and filtered detail\n",
    "\n",
    "    # Perform ISWT to reconstruct the signal from the filtered coefficients\n",
    "    reconstructed_signal = perform_iswt(filtered_coeffs, wavelet='db1')\n",
    "    all_reconstructed_signals.append(reconstructed_signal)\n"
   ]
  },
  {
   "cell_type": "markdown",
   "metadata": {},
   "source": [
    "# visualize the preprocess and original signal"
   ]
  },
  {
   "cell_type": "code",
   "execution_count": 64,
   "metadata": {},
   "outputs": [
    {
     "data": {
      "image/png": "[encoded data removed]",
      "text/plain": [
       "<Figure size 864x432 with 2 Axes>"
      ]
     },
     "metadata": {
      "needs_background": "light"
     },
     "output_type": "display_data"
    }
   ],
   "source": [
    "import matplotlib.pyplot as plt\n",
    "\n",
    "# Assuming all_signals and all_reconstructed_signals are populated as per your processing loop\n",
    "\n",
    "# Plot the first original signal and the first reconstructed signal\n",
    "plt.figure(figsize=(12, 6))\n",
    "\n",
    "# Plot original signal\n",
    "plt.subplot(2, 1, 1)\n",
    "plt.plot(all_signals[0], label='Original Signal', color='blue')\n",
    "plt.title('Original Signal')\n",
    "plt.xlabel('Sample Index')\n",
    "plt.ylabel('Amplitude')\n",
    "plt.legend()\n",
    "\n",
    "# Plot reconstructed signal\n",
    "plt.subplot(2, 1, 2)\n",
    "plt.plot(all_reconstructed_signals[0], label='Reconstructed Signal', color='orange')\n",
    "plt.title('Reconstructed Signal After Filtering')\n",
    "plt.xlabel('Sample Index')\n",
    "plt.ylabel('Amplitude')\n",
    "plt.legend()\n",
    "\n",
    "# Show the plots\n",
    "plt.tight_layout()\n",
    "plt.show()\n"
   ]
  },
  {
   "cell_type": "code",
   "execution_count": 41,
   "metadata": {},
   "outputs": [],
   "source": [
    "all_signals_fin=np.vstack(all_reconstructed_signals)\n"
   ]
  },
  {
   "cell_type": "code",
   "execution_count": 42,
   "metadata": {},
   "outputs": [
    {
     "name": "stdout",
     "output_type": "stream",
     "text": [
      "(107141, 360)\n"
     ]
    }
   ],
   "source": [
    "print(all_signals_fin.shape)\n"
   ]
  },
  {
   "cell_type": "code",
   "execution_count": 43,
   "metadata": {},
   "outputs": [
    {
     "data": {
      "text/plain": [
       "N    75011\n",
       "L     8071\n",
       "R     7255\n",
       "V     7129\n",
       "/     7023\n",
       "A     2546\n",
       "E      106\n",
       "Name: count, dtype: int64"
      ]
     },
     "execution_count": 43,
     "metadata": {},
     "output_type": "execute_result"
    }
   ],
   "source": [
    "labels_fin=pd.Series(all_labels)\n",
    "\n",
    "labels_fin.value_counts()\n"
   ]
  },
  {
   "cell_type": "code",
   "execution_count": 44,
   "metadata": {},
   "outputs": [],
   "source": [
    "len(all_signals_fin)\n",
    "labels_array=np.array(all_labels)"
   ]
  },
  {
   "cell_type": "code",
   "execution_count": 45,
   "metadata": {},
   "outputs": [
    {
     "name": "stdout",
     "output_type": "stream",
     "text": [
      "7023\n",
      "2546\n",
      "106\n",
      "['/' '/' '/' ... '/' '/' '/']\n"
     ]
    },
    {
     "data": {
      "text/plain": [
       "7023"
      ]
     },
     "execution_count": 45,
     "metadata": {},
     "output_type": "execute_result"
    }
   ],
   "source": [
    "df_0=all_signals_fin[labels_fin=='/']\n",
    "df_1=all_signals_fin[labels_fin=='A']\n",
    "df_2=all_signals_fin[labels_fin=='E']\n",
    "df_3=all_signals_fin[labels_fin=='L']\n",
    "df_4=all_signals_fin[labels_fin=='N']\n",
    "df_5=all_signals_fin[labels_fin=='R']\n",
    "df_6=all_signals_fin[labels_fin=='V']\n",
    "y_df0=labels_array[labels_fin=='/']\n",
    "print(len(df_0))\n",
    "print(len(df_1))\n",
    "print(len(df_2))\n",
    "\n",
    "print(y_df0)\n",
    "len(y_df0)"
   ]
  },
  {
   "cell_type": "code",
   "execution_count": 46,
   "metadata": {},
   "outputs": [],
   "source": [
    "from sklearn.utils import resample\n"
   ]
  },
  {
   "cell_type": "code",
   "execution_count": 47,
   "metadata": {},
   "outputs": [],
   "source": [
    "df0_sampled=resample(df_0, replace=True, n_samples=20000, random_state=42)\n",
    "df1_sampled=resample(df_1, replace=True, n_samples=20000, random_state=42)\n",
    "df2_sampled=resample(df_2, replace=True, n_samples=20000, random_state=42)\n",
    "df3_sampled=resample(df_3, replace=True, n_samples=20000, random_state=42)\n",
    "df4_sampled=resample(df_4, replace=True, n_samples=20000, random_state=42)\n",
    "df5_sampled=resample(df_5, replace=True, n_samples=20000, random_state=42)\n",
    "df6_sampled=resample(df_6, replace=True, n_samples=20000, random_state=42)"
   ]
  },
  {
   "cell_type": "code",
   "execution_count": 48,
   "metadata": {},
   "outputs": [],
   "source": [
    "y_0=['/']*len(df0_sampled)\n",
    "y_1=['A']*len(df1_sampled)\n",
    "y_2=['E']*len(df2_sampled)\n",
    "y_3=['L']*len(df3_sampled)\n",
    "y_4=['N']*len(df4_sampled)\n",
    "y_5=['R']*len(df5_sampled)\n",
    "y_6=['V']*len(df6_sampled)"
   ]
  },
  {
   "cell_type": "code",
   "execution_count": 49,
   "metadata": {},
   "outputs": [],
   "source": [
    "X_final=[]\n",
    "X_final.extend(df0_sampled)\n",
    "X_final.extend(df1_sampled)\n",
    "X_final.extend(df2_sampled)\n",
    "X_final.extend(df3_sampled)\n",
    "X_final.extend(df4_sampled)\n",
    "X_final.extend(df5_sampled)\n",
    "X_final.extend(df6_sampled)"
   ]
  },
  {
   "cell_type": "code",
   "execution_count": 50,
   "metadata": {},
   "outputs": [],
   "source": [
    "y_final=[]\n",
    "y_final.extend(y_0)\n",
    "y_final.extend(y_1)\n",
    "y_final.extend(y_2)\n",
    "y_final.extend(y_3)\n",
    "y_final.extend(y_4)\n",
    "y_final.extend(y_5)\n",
    "y_final.extend(y_6)"
   ]
  },
  {
   "cell_type": "code",
   "execution_count": 51,
   "metadata": {},
   "outputs": [],
   "source": [
    "from sklearn.preprocessing import StandardScaler\n",
    "scaler=StandardScaler()"
   ]
  },
  {
   "cell_type": "code",
   "execution_count": 52,
   "metadata": {},
   "outputs": [],
   "source": [
    "scaled=scaler.fit_transform(X_final)\n"
   ]
  },
  {
   "cell_type": "code",
   "execution_count": 53,
   "metadata": {},
   "outputs": [],
   "source": [
    "def check_strat(y):\n",
    "    dummy = pd.DataFrame(y,columns=[\"Labels\"])\n",
    "    print(\"Value distribution:\\n\")\n",
    "    count = dummy[\"Labels\"].value_counts()\n",
    "    percent = dummy[\"Labels\"].value_counts(normalize=True).mul(100).round(2)\n",
    "    print(pd.concat([count,percent],axis=1,keys=[\"Counts\",\"Percent\"]))"
   ]
  },
  {
   "cell_type": "code",
   "execution_count": 54,
   "metadata": {},
   "outputs": [
    {
     "data": {
      "text/plain": [
       "array(['/', 'A', 'E', 'L', 'N', 'R', 'V'], dtype='<U1')"
      ]
     },
     "execution_count": 54,
     "metadata": {},
     "output_type": "execute_result"
    }
   ],
   "source": [
    "from sklearn.model_selection import StratifiedShuffleSplit\n",
    "strad=StratifiedShuffleSplit()\n",
    "assin_strad=strad.split(scaled, y_final)\n",
    "train_index, test_index=next(assin_strad)\n",
    "train_data_scaled=scaled[train_index]\n",
    "from sklearn.preprocessing import LabelEncoder\n",
    "lab=LabelEncoder()\n",
    "labels_final=lab.fit_transform(y_final)\n",
    "lab.classes_"
   ]
  },
  {
   "cell_type": "code",
   "execution_count": 55,
   "metadata": {},
   "outputs": [],
   "source": [
    "train_label=labels_final[train_index]\n",
    "assin_val=strad.split(train_data_scaled, train_label)\n",
    "train_index_fin, val_index=next(assin_val)\n",
    "X_val=train_data_scaled[val_index]\n",
    "train_data_scaled_fin=train_data_scaled[train_index_fin]\n",
    "train_labels_fin=train_label[train_index_fin]\n",
    "y_val=train_label[val_index]\n",
    "test_data_scaled=scaled[test_index]\n",
    "test_labels=labels_final[test_index]"
   ]
  },
  {
   "cell_type": "code",
   "execution_count": 56,
   "metadata": {},
   "outputs": [
    {
     "name": "stdout",
     "output_type": "stream",
     "text": [
      "Value distribution:\n",
      "\n",
      "        Counts  Percent\n",
      "Labels                 \n",
      "5         2000    14.29\n",
      "3         2000    14.29\n",
      "1         2000    14.29\n",
      "6         2000    14.29\n",
      "0         2000    14.29\n",
      "2         2000    14.29\n",
      "4         2000    14.29\n"
     ]
    }
   ],
   "source": [
    "check_strat(test_labels)\n"
   ]
  },
  {
   "cell_type": "code",
   "execution_count": 57,
   "metadata": {},
   "outputs": [
    {
     "name": "stdout",
     "output_type": "stream",
     "text": [
      "Value distribution:\n",
      "\n",
      "        Counts  Percent\n",
      "Labels                 \n",
      "5        18000    14.29\n",
      "3        18000    14.29\n",
      "0        18000    14.29\n",
      "2        18000    14.29\n",
      "6        18000    14.29\n",
      "1        18000    14.29\n",
      "4        18000    14.29\n"
     ]
    }
   ],
   "source": [
    "check_strat(train_label)\n"
   ]
  },
  {
   "cell_type": "code",
   "execution_count": 58,
   "metadata": {},
   "outputs": [],
   "source": [
    "import os\n",
    "MODEL_PATH = os.path.join(FIG_PATH,\"saved_models\")\n",
    "os.makedirs(\"saved_models\",exist_ok=True)\n",
    "\n",
    "import pickle\n",
    "\n",
    "# a function to save trained models in pickle object\n",
    "def save_model(name,model,extension=\".pickle\"):\n",
    "    path = os.path.join(MODEL_PATH,name+extension)\n",
    "    print(\"Saving Model : \",name)\n",
    "    file = open(path,\"wb\")\n",
    "    pickle.dump(model,file)\n",
    "    file.close()"
   ]
  },
  {
   "cell_type": "code",
   "execution_count": 59,
   "metadata": {},
   "outputs": [],
   "source": [
    "from tensorflow import keras\n",
    "CNN_X_train=train_data_scaled_fin.reshape(len(train_data_scaled_fin), len(train_data_scaled_fin[0]), 1)\n",
    "CNN_val=X_val.reshape(len(X_val), len(X_val[0]), 1)"
   ]
  },
  {
   "cell_type": "code",
   "execution_count": 60,
   "metadata": {},
   "outputs": [
    {
     "name": "stderr",
     "output_type": "stream",
     "text": [
      "WARNING:absl:`lr` is deprecated in Keras optimizer, please use `learning_rate` or use the legacy optimizer, e.g.,tf.keras.optimizers.legacy.Adam.\n"
     ]
    },
    {
     "name": "stdout",
     "output_type": "stream",
     "text": [
      "Model: \"sequential_1\"\n",
      "_________________________________________________________________\n",
      " Layer (type)                Output Shape              Param #   \n",
      "=================================================================\n",
      " conv1d_2 (Conv1D)           (None, 358, 64)           256       \n",
      "                                                                 \n",
      " max_pooling1d_2 (MaxPoolin  (None, 179, 64)           0         \n",
      " g1D)                                                            \n",
      "                                                                 \n",
      " conv1d_3 (Conv1D)           (None, 177, 32)           6176      \n",
      "                                                                 \n",
      " max_pooling1d_3 (MaxPoolin  (None, 88, 32)            0         \n",
      " g1D)                                                            \n",
      "                                                                 \n",
      " flatten_1 (Flatten)         (None, 2816)              0         \n",
      "                                                                 \n",
      " dense_2 (Dense)             (None, 100)               281700    \n",
      "                                                                 \n",
      " dense_3 (Dense)             (None, 7)                 707       \n",
      "                                                                 \n",
      "=================================================================\n",
      "Total params: 288839 (1.10 MB)\n",
      "Trainable params: 288839 (1.10 MB)\n",
      "Non-trainable params: 0 (0.00 Byte)\n",
      "_________________________________________________________________\n",
      "Epoch 1/10\n",
      "2268/2268 [==============================] - 30s 12ms/step - loss: 0.1469 - accuracy: 0.9564 - val_loss: 0.0541 - val_accuracy: 0.9848\n",
      "Epoch 2/10\n",
      "2268/2268 [==============================] - 24s 11ms/step - loss: 0.0415 - accuracy: 0.9875 - val_loss: 0.0346 - val_accuracy: 0.9908\n",
      "Epoch 3/10\n",
      "2268/2268 [==============================] - 24s 11ms/step - loss: 0.0244 - accuracy: 0.9925 - val_loss: 0.0261 - val_accuracy: 0.9914\n",
      "Epoch 4/10\n",
      "2268/2268 [==============================] - 24s 10ms/step - loss: 0.0170 - accuracy: 0.9948 - val_loss: 0.0234 - val_accuracy: 0.9931\n",
      "Epoch 5/10\n",
      "2268/2268 [==============================] - 24s 10ms/step - loss: 0.0136 - accuracy: 0.9958 - val_loss: 0.0218 - val_accuracy: 0.9946\n",
      "Epoch 6/10\n",
      "2268/2268 [==============================] - 24s 10ms/step - loss: 0.0095 - accuracy: 0.9972 - val_loss: 0.0178 - val_accuracy: 0.9967\n",
      "Epoch 7/10\n",
      "2268/2268 [==============================] - 23s 10ms/step - loss: 0.0071 - accuracy: 0.9978 - val_loss: 0.0161 - val_accuracy: 0.9964\n",
      "Epoch 8/10\n",
      "2268/2268 [==============================] - 24s 10ms/step - loss: 0.0069 - accuracy: 0.9981 - val_loss: 0.0159 - val_accuracy: 0.9963\n",
      "Epoch 9/10\n",
      "2268/2268 [==============================] - 23s 10ms/step - loss: 0.0058 - accuracy: 0.9983 - val_loss: 0.0135 - val_accuracy: 0.9970\n",
      "Epoch 10/10\n",
      "2268/2268 [==============================] - 25s 11ms/step - loss: 0.0059 - accuracy: 0.9983 - val_loss: 0.0174 - val_accuracy: 0.9960\n"
     ]
    }
   ],
   "source": [
    "CNN_model = keras.Sequential()\n",
    "CNN_model.add(keras.layers.Conv1D(64,kernel_size=3,input_shape=(360,1),activation=\"relu\"))\n",
    "CNN_model.add(keras.layers.MaxPool1D(pool_size=2))\n",
    "CNN_model.add(keras.layers.Conv1D(filters=32,kernel_size=3,activation=\"relu\"))\n",
    "CNN_model.add(keras.layers.MaxPool1D(pool_size=2))\n",
    "CNN_model.add(keras.layers.Flatten())\n",
    "CNN_model.add(keras.layers.Dense(100,activation=\"relu\"))\n",
    "CNN_model.add(keras.layers.Dense(7,activation=\"softmax\"))\n",
    "loss=keras.losses.SparseCategoricalCrossentropy(from_logits=False)\n",
    "opt=keras.optimizers.Adam(lr=0.0001)\n",
    "CNN_model.compile(loss=loss, optimizer=opt, metrics=['accuracy'])\n",
    "CNN_model.summary()\n",
    "    #X_train=X_train.reshape(len(X_train), len(X_train[0]), 1)\n",
    "    #X_test=X_test.reshape(len(X_test), len(X_test[0]), 1)\n",
    "history=CNN_model.fit(CNN_X_train, train_labels_fin, epochs=10, batch_size=50, validation_data=(CNN_val, y_val))\n",
    "    #max_val_acc=max(history.history['accuracy'])\n",
    "    \n",
    "    #return CNN_model.evaluate(X_test, y_test)[1]"
   ]
  },
  {
   "cell_type": "code",
   "execution_count": 61,
   "metadata": {},
   "outputs": [
    {
     "name": "stdout",
     "output_type": "stream",
     "text": [
      "438/438 [==============================] - 3s 5ms/step\n"
     ]
    }
   ],
   "source": [
    "cnn_prediction = CNN_model.predict(test_data_scaled)\n"
   ]
  },
  {
   "cell_type": "code",
   "execution_count": 62,
   "metadata": {},
   "outputs": [],
   "source": [
    "predicted_classes = np.argmax(cnn_prediction, axis=1)"
   ]
  },
  {
   "cell_type": "code",
   "execution_count": 63,
   "metadata": {},
   "outputs": [
    {
     "name": "stdout",
     "output_type": "stream",
     "text": [
      "[5 3 1 1 1 6 0 2 4 3 4 1 5 0 3 0 2 4 3 3]\n",
      "[5 3 1 1 1 6 0 2 4 3 4 1 5 0 3 0 2 4 3 3]\n"
     ]
    }
   ],
   "source": [
    "print(predicted_classes[0:20])\n",
    "print(test_labels[0:20])"
   ]
  }
 ],
 "metadata": {
  "kernelspec": {
   "display_name": "Python 3",
   "language": "python",
   "name": "python3"
  },
  "language_info": {
   "codemirror_mode": {
    "name": "ipython",
    "version": 3
   },
   "file_extension": ".py",
   "mimetype": "text/x-python",
   "name": "python",
   "nbconvert_exporter": "python",
   "pygments_lexer": "ipython3",
   "version": "3.10.5"
  }
 },
 "nbformat": 4,
 "nbformat_minor": 2
}
